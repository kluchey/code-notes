{
  "metadata": {
    "language_info": {
      "codemirror_mode": {
        "name": "python",
        "version": 3
      },
      "file_extension": ".py",
      "mimetype": "text/x-python",
      "name": "python",
      "nbconvert_exporter": "python",
      "pygments_lexer": "ipython3",
      "version": "3.8"
    },
    "kernelspec": {
      "name": "python",
      "display_name": "Python (Pyodide)",
      "language": "python"
    }
  },
  "nbformat_minor": 4,
  "nbformat": 4,
  "cells": [
    {
      "cell_type": "markdown",
      "source": "# Card Simulation",
      "metadata": {}
    },
    {
      "cell_type": "markdown",
      "source": "This code implements a 52-card standard deck *without replacement*.\n\n![card draw](https://steamuserimages-a.akamaihd.net/ugc/930435128471083772/1A94E5C04A8400D7599CFD13B7683054742A63FC/?imw=5000&imh=5000&ima=fit&impolicy=Letterbox&imcolor=%23000000&letterbox=false)",
      "metadata": {}
    },
    {
      "cell_type": "markdown",
      "source": "## How do I run this simulation?\n\nThere is a play button in the top tool bar. A keyboard shortcut for play is \"Shift-Enter\". You can use this play button or shift-enter to walk through each \"cell\" step-by-step and see the results.\n\nIf you need to re-run a cell because you have altered it, make sure to re-run from the earliest cell you have edited. Changes are not saved until the cell you changed is \"run\".\n\nThere is also a fast forward button that will run all of the cells.",
      "metadata": {}
    },
    {
      "cell_type": "code",
      "source": "# do not delete these statements\n# make sure to run this cell first if your code is not working below\nimport \nimport numpy as np\nimport pandas as pd\nimport matplotlib.pyplot as plt\n\ndef plot_histogram(data, xlabel='', ylabel='', title=''):\n    \"\"\"\n    Plot a histogram of the given data using pandas.\n\n    Parameters:\n    - data (list or pandas Series): Data to be plotted.\n    - xlabel (str): Label for the x-axis.\n    - ylabel (str): Label for the y-axis.\n    - title (str): Title for the plot.\n    \"\"\"\n    # Convert data to pandas Series if it's not already\n    if not isinstance(data, pd.Series):\n        data = pd.Series(data)\n    \n    # Check if data is numeric or categorical\n    if pd.api.types.is_numeric_dtype(data):\n        # If numeric, plot a histogram with discrete bins\n        plt.figure(figsize=(8, 6))\n        data.plot(kind='hist', bins=range(int(min(data)), int(max(data))+2), color='skyblue', edgecolor='black', alpha=0.7, align='mid')\n        plt.title(title)\n        plt.xlabel(xlabel)\n        plt.ylabel(ylabel)\n        plt.grid(axis='y', linestyle='--', alpha=0.7)\n        plt.show()\n    else:\n        # If categorical, plot a bar plot\n        plt.figure(figsize=(8, 6))\n        data.value_counts().plot(kind='bar', color='skyblue', edgecolor='black', alpha=0.7)\n        plt.title(title)\n        plt.xlabel(xlabel)\n        plt.ylabel(ylabel)\n        plt.grid(axis='y', linestyle='--', alpha=0.7)\n        plt.show()",
      "metadata": {
        "trusted": true
      },
      "execution_count": 1,
      "outputs": []
    },
    {
      "cell_type": "markdown",
      "source": "Description of the Function:\n\n```python\ntoss_coins(int n) --> list\n```\n\n- n is a positive integers representing the number of trials in the simulated experiement (eg. n = 10 is 10 tosses of a coin)\n- This function outputs a list of all the simulated outcomes (eg. toss_coins(3) could produce [H, H, T] as a list of outcomes for 3 trials)",
      "metadata": {}
    },
    {
      "cell_type": "code",
      "source": "def draw_cards(n):\n    suits = ['♠', '♡', '♢', '♣']\n    values = ['2', '3', '4', '5', '6', '7', '8', '9', '10', 'J', 'Q', 'K', 'A']\n    deck = [value + suit for suit in suits for value in values]\n\n    # If num_cards exceeds the total number of cards in the deck, return a shuffled deck\n    if n > len(deck):\n        random.shuffle(deck)\n        return deck\n\n    # Draw cards from the deck without replacement\n    drawn_cards = random.sample(deck, n)\n    return drawn_cards",
      "metadata": {
        "trusted": true
      },
      "execution_count": 7,
      "outputs": []
    },
    {
      "cell_type": "code",
      "source": "trials = 15\noutcomes = draw_cards(trials)\nprint(outcomes)",
      "metadata": {
        "trusted": true
      },
      "execution_count": 8,
      "outputs": [
        {
          "ename": "<class 'NameError'>",
          "evalue": "name 'random' is not defined",
          "traceback": [
            "\u001b[0;31m---------------------------------------------------------------------------\u001b[0m",
            "\u001b[0;31mNameError\u001b[0m                                 Traceback (most recent call last)",
            "Cell \u001b[0;32mIn[8], line 2\u001b[0m\n\u001b[1;32m      1\u001b[0m trials \u001b[38;5;241m=\u001b[39m \u001b[38;5;241m15\u001b[39m\n\u001b[0;32m----> 2\u001b[0m outcomes \u001b[38;5;241m=\u001b[39m \u001b[43mdraw_cards\u001b[49m\u001b[43m(\u001b[49m\u001b[43mtrials\u001b[49m\u001b[43m)\u001b[49m\n\u001b[1;32m      3\u001b[0m \u001b[38;5;28mprint\u001b[39m(outcomes)\n",
            "Cell \u001b[0;32mIn[7], line 12\u001b[0m, in \u001b[0;36mdraw_cards\u001b[0;34m(n)\u001b[0m\n\u001b[1;32m      9\u001b[0m     \u001b[38;5;28;01mreturn\u001b[39;00m deck\n\u001b[1;32m     11\u001b[0m \u001b[38;5;66;03m# Draw cards from the deck without replacement\u001b[39;00m\n\u001b[0;32m---> 12\u001b[0m drawn_cards \u001b[38;5;241m=\u001b[39m \u001b[43mrandom\u001b[49m\u001b[38;5;241m.\u001b[39msample(deck, n)\n\u001b[1;32m     13\u001b[0m \u001b[38;5;28;01mreturn\u001b[39;00m drawn_cards\n",
            "\u001b[0;31mNameError\u001b[0m: name 'random' is not defined"
          ],
          "output_type": "error"
        }
      ]
    },
    {
      "cell_type": "code",
      "source": "plot_histogram(outcomes, xlabel='Face on Coin', ylabel='Frequency', title=f'Dice Roll Data for D6 and {trials} Trials')",
      "metadata": {
        "trusted": true
      },
      "execution_count": 4,
      "outputs": [
        {
          "ename": "<class 'NameError'>",
          "evalue": "name 'outcomes' is not defined",
          "traceback": [
            "\u001b[0;31m---------------------------------------------------------------------------\u001b[0m",
            "\u001b[0;31mNameError\u001b[0m                                 Traceback (most recent call last)",
            "Cell \u001b[0;32mIn[4], line 1\u001b[0m\n\u001b[0;32m----> 1\u001b[0m plot_histogram(\u001b[43moutcomes\u001b[49m, xlabel\u001b[38;5;241m=\u001b[39m\u001b[38;5;124m'\u001b[39m\u001b[38;5;124mFace on Coin\u001b[39m\u001b[38;5;124m'\u001b[39m, ylabel\u001b[38;5;241m=\u001b[39m\u001b[38;5;124m'\u001b[39m\u001b[38;5;124mFrequency\u001b[39m\u001b[38;5;124m'\u001b[39m, title\u001b[38;5;241m=\u001b[39m\u001b[38;5;124mf\u001b[39m\u001b[38;5;124m'\u001b[39m\u001b[38;5;124mDice Roll Data for D6 and \u001b[39m\u001b[38;5;132;01m{\u001b[39;00mtrials\u001b[38;5;132;01m}\u001b[39;00m\u001b[38;5;124m Trials\u001b[39m\u001b[38;5;124m'\u001b[39m)\n",
            "\u001b[0;31mNameError\u001b[0m: name 'outcomes' is not defined"
          ],
          "output_type": "error"
        }
      ]
    },
    {
      "cell_type": "code",
      "source": "",
      "metadata": {},
      "execution_count": null,
      "outputs": []
    }
  ]
}